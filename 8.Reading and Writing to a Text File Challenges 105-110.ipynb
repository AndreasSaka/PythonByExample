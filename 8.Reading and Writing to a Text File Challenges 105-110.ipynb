{
 "cells": [
  {
   "cell_type": "code",
   "execution_count": null,
   "metadata": {},
   "outputs": [],
   "source": [
    "file = open(\"Countries.txt\",\"w\")\n",
    "file.write(\"Italy\\n\")\n",
    "file.write(\"Germany\\n\")\n",
    "file.write(\"Spain\\n\")\n",
    "file.close()"
   ]
  },
  {
   "cell_type": "code",
   "execution_count": null,
   "metadata": {},
   "outputs": [],
   "source": [
    "file = open(\"Countries.txt\",\"r\")\n",
    "print(file.read())"
   ]
  },
  {
   "cell_type": "code",
   "execution_count": null,
   "metadata": {},
   "outputs": [],
   "source": [
    "file = open('Countries.txt','a')\n",
    "file.write('France\\n')\n",
    "file.close()"
   ]
  },
  {
   "cell_type": "code",
   "execution_count": null,
   "metadata": {},
   "outputs": [],
   "source": [
    "#Challenge 105\n",
    "file = open('Numbers.txt','w')\n",
    "file.write(\"4, \")\n",
    "file.write(\"5, \")\n",
    "file.write(\"6, \")\n",
    "file.write(\"7, \")\n",
    "file.write(\"8, \")\n",
    "file.close()"
   ]
  },
  {
   "cell_type": "code",
   "execution_count": null,
   "metadata": {},
   "outputs": [],
   "source": [
    "#Challenge 106\n",
    "file = open('Names.txt','w')\n",
    "file.write('Andreas\\n')\n",
    "file.write('John\\n')\n",
    "file.write('Alex\\n')\n",
    "file.close()"
   ]
  },
  {
   "cell_type": "code",
   "execution_count": null,
   "metadata": {},
   "outputs": [],
   "source": [
    "#Challenge 107\n",
    "file = open('Names.txt','r')\n",
    "print(file.read())"
   ]
  },
  {
   "cell_type": "code",
   "execution_count": null,
   "metadata": {},
   "outputs": [],
   "source": [
    "#Challenge 108\n",
    "file = open('Names.txt','a')\n",
    "new_name = input('Enter a new name in the end')\n",
    "file.write(new_name + '\\n')\n",
    "file.close()\n",
    "\n",
    "file = open('Names.txt','r')\n",
    "print(file.read())\n",
    "file.close()"
   ]
  },
  {
   "cell_type": "code",
   "execution_count": null,
   "metadata": {},
   "outputs": [],
   "source": [
    "#Challenge 109\n",
    "print(\"1) Create a new file\")\n",
    "print(\"2) Display a new file\")\n",
    "print(\"3) Add new item to the file\")\n",
    "\n",
    "selection = int(input('Make a selection 1,2 or 3'))\n",
    "\n",
    "if selection == 1:\n",
    "    new_sub = input('Enter a new subject')\n",
    "    file = open('Subject.txt','w')\n",
    "    file.write(new_sub + '\\n')\n",
    "    file.close()\n",
    "elif selection == 2:\n",
    "    file = open('Subject.txt','r')\n",
    "    print(file.read())\n",
    "    file.close()\n",
    "elif selection == 3:\n",
    "    new_sub = input('Enter a new subject')\n",
    "    file = open('Subject.txt','w')\n",
    "    file.write(new_sub + '\\n')\n",
    "    file.close()\n",
    "    file = open('Subject.txt','r')\n",
    "    print(file.read())\n",
    "else:\n",
    "    print('Invalid option')"
   ]
  },
  {
   "cell_type": "code",
   "execution_count": null,
   "metadata": {},
   "outputs": [],
   "source": [
    "#Challenge 110\n",
    "file = open('Names.txt','r')\n",
    "print(file.read())\n",
    "delete_name = input('Enter a name you wish to delete')\n",
    "delete_name = delete_name + \"\\n\"\n",
    "for row in file:\n",
    "    if row != delete_name:\n",
    "        file = open(\"Names2.txt\",\"a\")\n",
    "        file.write(row)\n",
    "        file.close()\n",
    "file.close()"
   ]
  }
 ],
 "metadata": {
  "kernelspec": {
   "display_name": "Python 3",
   "language": "python",
   "name": "python3"
  },
  "language_info": {
   "codemirror_mode": {
    "name": "ipython",
    "version": 3
   },
   "file_extension": ".py",
   "mimetype": "text/x-python",
   "name": "python",
   "nbconvert_exporter": "python",
   "pygments_lexer": "ipython3",
   "version": "3.8.5"
  }
 },
 "nbformat": 4,
 "nbformat_minor": 4
}
