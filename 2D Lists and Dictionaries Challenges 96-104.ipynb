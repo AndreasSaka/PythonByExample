{
 "cells": [
  {
   "cell_type": "code",
   "execution_count": 1,
   "metadata": {},
   "outputs": [],
   "source": [
    "#Challenge 96\n",
    "listA =[[2,5,8],[3,7,4],[1,6,9],[4,2,0]]"
   ]
  },
  {
   "cell_type": "code",
   "execution_count": 4,
   "metadata": {},
   "outputs": [
    {
     "name": "stdout",
     "output_type": "stream",
     "text": [
      "[[2, 5, 8], [3, 7, 4], [1, 6, 9], [4, 2, 0]]\n",
      "Select a row: 2\n",
      "Select a column: 2\n",
      "9\n"
     ]
    }
   ],
   "source": [
    "#Challenge 97\n",
    "print(listA)\n",
    "rowl = int(input(\"Select a row: \"))\n",
    "columnl = int(input(\"Select a column: \"))\n",
    "print(listA[rowl][columnl])"
   ]
  },
  {
   "cell_type": "code",
   "execution_count": 8,
   "metadata": {},
   "outputs": [
    {
     "name": "stdout",
     "output_type": "stream",
     "text": [
      "[[2, 5, 8], [3, 7, 4], [1, 6, 9, 3], [4, 2, 0], 3]\n",
      "Select a row to be displayed: 2\n",
      "Add a new value: 3\n",
      "[1, 6, 9, 3, 3]\n"
     ]
    }
   ],
   "source": [
    "#Challenge 98\n",
    "print(listA)\n",
    "rowl = int(input(\"Select a row to be displayed: \"))\n",
    "listA[rowl]\n",
    "new_val = int(input(\"Add a new value: \"))\n",
    "listA[rowl].append(new_val)\n",
    "print(listA[rowl])"
   ]
  },
  {
   "cell_type": "code",
   "execution_count": 10,
   "metadata": {},
   "outputs": [
    {
     "name": "stdout",
     "output_type": "stream",
     "text": [
      "Select a row to be displayed: 1\n",
      "Select a column to be displayed: 2\n",
      "Do you wish to change the value? (y/n): y\n",
      "Add a new value: 39\n",
      "[3, 7, 39]\n"
     ]
    }
   ],
   "source": [
    "#Challenge 99\n",
    "rowl = int(input(\"Select a row to be displayed: \"))\n",
    "listA[rowl]\n",
    "columnl = int(input(\"Select a column to be displayed: \"))\n",
    "listA[rowl][columnl]\n",
    "\n",
    "change = input(\"Do you wish to change the value? (y/n): \")\n",
    "\n",
    "if change == 'y':\n",
    "    new_val = int(input(\"Add a new value: \"))\n",
    "    listA[rowl][columnl] = (new_val)\n",
    "\n",
    "print(listA[rowl])"
   ]
  },
  {
   "cell_type": "code",
   "execution_count": 11,
   "metadata": {},
   "outputs": [],
   "source": [
    "#Challenge 100\n",
    "sales = {'John':{'N':3056,'S':8463,'E':8441,'W':2694},\n",
    "         'Tom':{'N':4832,'S':6786,'E':4737,'W':3612},\n",
    "        'Anne':{'N':5239,'S':4802,'E':5820,'W':1859},\n",
    "        'Fiona':{'N':3904,'S':3645,'E':8821,'W':2451}}"
   ]
  },
  {
   "cell_type": "code",
   "execution_count": 14,
   "metadata": {},
   "outputs": [
    {
     "name": "stdout",
     "output_type": "stream",
     "text": [
      "Provide a name: John\n",
      "Provide a region: N\n",
      "Enter new data: 3000\n",
      "{'N': 3000, 'S': 8463, 'E': 8441, 'W': 2694}\n"
     ]
    }
   ],
   "source": [
    "#Challenge 101\n",
    "name = input(\"Provide a name: \")\n",
    "region = input(\"Provide a region: \")\n",
    "sales[name][region]\n",
    "newdata = int(input('Enter new data: '))\n",
    "sales[name][region] = newdata\n",
    "print(sales[name])"
   ]
  },
  {
   "cell_type": "code",
   "execution_count": 15,
   "metadata": {},
   "outputs": [
    {
     "name": "stdout",
     "output_type": "stream",
     "text": [
      "Provide name: Andreas\n",
      "Provide age of the person: 27\n",
      "Provide shoe size: 42\n",
      "Provide name: John\n",
      "Provide age of the person: 33\n",
      "Provide shoe size: 50\n",
      "Provide name: Myriam\n",
      "Provide age of the person: 29\n",
      "Provide shoe size: 38\n",
      "Provide name: Baby\n",
      "Provide age of the person: 1\n",
      "Provide shoe size: 5\n"
     ]
    }
   ],
   "source": [
    "#Challenge 102\n",
    "dic = {}\n",
    "for i in range(0,4):\n",
    "    name = input(\"Provide name: \")\n",
    "    age = input(\"Provide age of the person: \")\n",
    "    shoe_size = input(\"Provide shoe size: \")\n",
    "    dic[name] = {'Age':age,'ShoeSize':shoe_size}\n"
   ]
  },
  {
   "cell_type": "code",
   "execution_count": 23,
   "metadata": {},
   "outputs": [
    {
     "name": "stdout",
     "output_type": "stream",
     "text": [
      "Provide name: Drew\n",
      "Provide age of the person: 27\n",
      "Provide shoe size: 42\n",
      "Provide name: John\n",
      "Provide age of the person: 33\n",
      "Provide shoe size: 50\n",
      "Provide name: Myriam\n",
      "Provide age of the person: 29\n",
      "Provide shoe size: 39\n",
      "Provide name: Baby\n",
      "Provide age of the person: 1\n",
      "Provide shoe size: 5\n",
      "Drew 27\n",
      "John 33\n",
      "Myriam 29\n",
      "Baby 1\n"
     ]
    }
   ],
   "source": [
    "#Challenge 103\n",
    "dic = {}\n",
    "for i in range(0,4):\n",
    "    name = input(\"Provide name: \")\n",
    "    age = input(\"Provide age of the person: \")\n",
    "    shoe_size = input(\"Provide shoe size: \")\n",
    "    dic[name] = {'Age':age,'ShoeSize':shoe_size}\n",
    "    \n",
    "for name in dic:\n",
    "    print((name),dic[name]['Age'])"
   ]
  },
  {
   "cell_type": "code",
   "execution_count": 26,
   "metadata": {},
   "outputs": [
    {
     "name": "stdout",
     "output_type": "stream",
     "text": [
      "Provide name: Drew\n",
      "Provide age of the person: 27\n",
      "Provide shoe size: 42\n",
      "Provide name: 33\n",
      "Provide age of the person: 50\n",
      "Provide shoe size: 29\n",
      "Provide name: Myriam\n",
      "Provide age of the person: 29\n",
      "Provide shoe size: 39\n",
      "Provide name: Baby\n",
      "Provide age of the person: 1\n",
      "Provide shoe size: 5\n",
      "Who do you want to remove from the list? 33\n",
      "Drew 27 42\n",
      "Myriam 29 39\n",
      "Baby 1 5\n"
     ]
    }
   ],
   "source": [
    "#Challenge 104\n",
    "dic = {}\n",
    "for i in range(0,4):\n",
    "    name = input(\"Provide name: \")\n",
    "    age = input(\"Provide age of the person: \")\n",
    "    shoe_size = input(\"Provide shoe size: \")\n",
    "    dic[name] = {'Age':age,'ShoeSize':shoe_size}\n",
    "    \n",
    "getrid = input(\"Who do you want to remove from the list? \")\n",
    "\n",
    "del dic[getrid]\n",
    "\n",
    "for name in dic:\n",
    "    print((name),dic[name]['Age'],dic[name]['ShoeSize'])"
   ]
  }
 ],
 "metadata": {
  "kernelspec": {
   "display_name": "Python 3",
   "language": "python",
   "name": "python3"
  },
  "language_info": {
   "codemirror_mode": {
    "name": "ipython",
    "version": 3
   },
   "file_extension": ".py",
   "mimetype": "text/x-python",
   "name": "python",
   "nbconvert_exporter": "python",
   "pygments_lexer": "ipython3",
   "version": "3.8.5"
  }
 },
 "nbformat": 4,
 "nbformat_minor": 4
}
