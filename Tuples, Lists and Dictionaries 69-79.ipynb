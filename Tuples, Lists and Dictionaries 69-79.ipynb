{
 "cells": [
  {
   "cell_type": "code",
   "execution_count": 1,
   "metadata": {},
   "outputs": [],
   "source": [
    "fruit_tuple = (\"apple\",\"banana\",\"strawberry\",\"orange\")"
   ]
  },
  {
   "cell_type": "code",
   "execution_count": 3,
   "metadata": {},
   "outputs": [],
   "source": [
    "fruit_tuple = [\"apple\",\"banana\",\"strawberry\",\"orange\"]"
   ]
  },
  {
   "cell_type": "code",
   "execution_count": 4,
   "metadata": {},
   "outputs": [],
   "source": [
    "del fruit_tuple[0]"
   ]
  },
  {
   "cell_type": "code",
   "execution_count": 5,
   "metadata": {},
   "outputs": [
    {
     "data": {
      "text/plain": [
       "['banana', 'strawberry', 'orange']"
      ]
     },
     "execution_count": 5,
     "metadata": {},
     "output_type": "execute_result"
    }
   ],
   "source": [
    "fruit_tuple"
   ]
  },
  {
   "cell_type": "code",
   "execution_count": 7,
   "metadata": {},
   "outputs": [
    {
     "name": "stdout",
     "output_type": "stream",
     "text": [
      "('Greece', 'Netherlands', 'Germany', 'Ireland', 'India')\n",
      "Enter a countryIndia\n"
     ]
    },
    {
     "data": {
      "text/plain": [
       "4"
      ]
     },
     "execution_count": 7,
     "metadata": {},
     "output_type": "execute_result"
    }
   ],
   "source": [
    "#Challenge 69\n",
    "country_tuple = ('Greece','Netherlands','Germany','Ireland','India')\n",
    "print(country_tuple)\n",
    "enter = input(\"Enter a country\")\n",
    "country_tuple.index(enter)"
   ]
  },
  {
   "cell_type": "code",
   "execution_count": 9,
   "metadata": {},
   "outputs": [
    {
     "name": "stdout",
     "output_type": "stream",
     "text": [
      "('Greece', 'Netherlands', 'Germany', 'Ireland', 'India')\n",
      "Enter a country1\n",
      "Netherlands\n"
     ]
    }
   ],
   "source": [
    "#Challenge 70\n",
    "country_tuple = ('Greece','Netherlands','Germany','Ireland','India')\n",
    "print(country_tuple)\n",
    "enter =int(input(\"Enter a country\"))\n",
    "print(country_tuple[enter])"
   ]
  },
  {
   "cell_type": "code",
   "execution_count": 12,
   "metadata": {},
   "outputs": [
    {
     "name": "stdout",
     "output_type": "stream",
     "text": [
      "Favorite sportkati\n"
     ]
    },
    {
     "data": {
      "text/plain": [
       "['soccer', 'basketball', 'kati']"
      ]
     },
     "execution_count": 12,
     "metadata": {},
     "output_type": "execute_result"
    }
   ],
   "source": [
    "#Challenge 71\n",
    "sports1 = ['soccer','basketball']\n",
    "user_sport = input('Favorite sport')\n",
    "sports1.append(user_sport)\n",
    "sports1.sort()\n",
    "sports1"
   ]
  },
  {
   "cell_type": "code",
   "execution_count": 14,
   "metadata": {},
   "outputs": [
    {
     "name": "stdout",
     "output_type": "stream",
     "text": [
      "Which one subject from school_subjects y dont like?geo\n"
     ]
    },
    {
     "data": {
      "text/plain": [
       "['maths', 'physics', 'calculus', 'english']"
      ]
     },
     "execution_count": 14,
     "metadata": {},
     "output_type": "execute_result"
    }
   ],
   "source": [
    "#Challenge 72\n",
    "school_subjects = ['maths','physics','geo','calculus','english']\n",
    "askuser = input('Which one subject from school_subjects y dont like?')\n",
    "school_subjects.remove(askuser)\n",
    "school_subjects"
   ]
  },
  {
   "cell_type": "code",
   "execution_count": 20,
   "metadata": {},
   "outputs": [
    {
     "name": "stdout",
     "output_type": "stream",
     "text": [
      "Give favorite foodeat1\n",
      "Give favorite foodeat2\n",
      "Give favorite foodeat3\n",
      "Which one food from dict_food y dont like?2\n",
      "['eat1', 'eat2']\n"
     ]
    }
   ],
   "source": [
    "#Challenge 73\n",
    "#ask_food = input('Give favorite food')\n",
    "dict_food = {}\n",
    "for i in range(0,3):\n",
    "    ask_food = input('Give favorite food')\n",
    "    dict_food[i] = ask_food\n",
    "dict_food\n",
    "\n",
    "\n",
    "askuser = int(input('Which one food from dict_food y dont like?'))\n",
    "\n",
    "del dict_food[askuser]\n",
    "print(sorted(dict_food.values()))"
   ]
  },
  {
   "cell_type": "code",
   "execution_count": 21,
   "metadata": {},
   "outputs": [
    {
     "name": "stdout",
     "output_type": "stream",
     "text": [
      "Give num from 0-40\n",
      "Giv num 5-99\n",
      "['color1', 'color2', 'color3', 'color4', 'color5', 'color6', 'color7', 'color8', 'color9']\n"
     ]
    }
   ],
   "source": [
    "#Challenge 74\n",
    "list = ['color1','color2','color3','color4','color5','color6','color7','color8','color9','color10']\n",
    "start_num = int(input('Give num from 0-4'))\n",
    "end_num = int(input('Giv num 5-9'))\n",
    "print(list[start_num:end_num])"
   ]
  },
  {
   "cell_type": "code",
   "execution_count": 25,
   "metadata": {},
   "outputs": [
    {
     "name": "stdout",
     "output_type": "stream",
     "text": [
      "123 \n",
      "\n",
      "321 \n",
      "\n",
      "456 \n",
      "\n",
      "987 \n",
      "\n"
     ]
    }
   ],
   "source": [
    "#Challenge 75\n",
    "listA = [123,321,456,987]\n",
    "for i in range(len(listA)):\n",
    "    print(listA[i], '\\n')\n",
    "\n",
    "    \n",
    "\n",
    "    "
   ]
  },
  {
   "cell_type": "code",
   "execution_count": 30,
   "metadata": {},
   "outputs": [
    {
     "name": "stdout",
     "output_type": "stream",
     "text": [
      "Giv a three digit num123\n",
      "Good guess\n"
     ]
    }
   ],
   "source": [
    "#guess = int(input('Giv a three digit num'))\n",
    "\n",
    "guest = False\n",
    "while guest == False:\n",
    "    guess = int(input('Giv a three digit num'))\n",
    "    if guess not in listA:\n",
    "        print(\"That's not it\")\n",
    "        guest = False\n",
    "    else:\n",
    "        guest = True\n",
    "        print(\"Good guess\")\n",
    "        "
   ]
  },
  {
   "cell_type": "code",
   "execution_count": 33,
   "metadata": {},
   "outputs": [
    {
     "name": "stdout",
     "output_type": "stream",
     "text": [
      "Send invitationsandreas\n",
      "Send invitationsjorge\n",
      "Send invitationscarlos\n",
      "Do you wish to add one more Yes/No?Yes\n",
      "Send invitationsMitsos\n",
      "Do you wish to add one more Yes/No?no\n",
      "4\n"
     ]
    }
   ],
   "source": [
    "#Challenge 76\n",
    "invitations_user = []\n",
    "for i in range(1,4):\n",
    "    invitations_user.append(input('Send invitations'))\n",
    "\n",
    "answer = input(\"Do you wish to add one more Yes/No?\")\n",
    "\n",
    "if answer == 'Yes':\n",
    "    invitations_user.append(input('Send invitations'))\n",
    "    answer = input(\"Do you wish to add one more Yes/No?\")\n",
    "    \n",
    "    \n",
    "print(len(invitations_user))\n"
   ]
  },
  {
   "cell_type": "code",
   "execution_count": 36,
   "metadata": {},
   "outputs": [
    {
     "name": "stdout",
     "output_type": "stream",
     "text": [
      "Send invitationsandreas\n",
      "Send invitationscarlos\n",
      "Send invitationsjorge\n",
      "Type a name from the listandreas\n",
      "0\n",
      "Do you want this person to your party yes/no?no\n"
     ]
    },
    {
     "data": {
      "text/plain": [
       "['carlos', 'jorge']"
      ]
     },
     "execution_count": 36,
     "metadata": {},
     "output_type": "execute_result"
    }
   ],
   "source": [
    "#Challenge 77\n",
    "invitations_user = []\n",
    "for i in range(1,4):\n",
    "    invitations_user.append(input('Send invitations'))\n",
    "\n",
    "invitations_user\n",
    "name = input(\"Type a name from the list\")\n",
    "\n",
    "print(invitations_user.index(name))\n",
    "\n",
    "answer = input(\"Do you want this person to your party yes/no?\")\n",
    "\n",
    "if answer=='no':\n",
    "    invitations_user.remove(name)\n",
    "\n",
    "invitations_user"
   ]
  },
  {
   "cell_type": "code",
   "execution_count": 37,
   "metadata": {},
   "outputs": [
    {
     "name": "stdout",
     "output_type": "stream",
     "text": [
      "little pony \n",
      "\n",
      "economics 010 \n",
      "\n",
      "news \n",
      "\n",
      "e! \n",
      "\n"
     ]
    }
   ],
   "source": [
    "#Challenge 78\n",
    "tv_programms = ['little pony','economics 010','news','e!']\n",
    "for i in range(len(tv_programms)):\n",
    "    print(tv_programms[i], '\\n')\n",
    "    \n",
    "ask_user = input('Do you wish to enter a new program ?')\n",
    "position_tv = int(input('What is the position of the new programm?'))\n",
    "\n",
    "tv_programms.insert(position_tv,ask_user)\n",
    "\n",
    "tv_programms"
   ]
  },
  {
   "cell_type": "code",
   "execution_count": 52,
   "metadata": {},
   "outputs": [
    {
     "name": "stdout",
     "output_type": "stream",
     "text": [
      "enter number1\n",
      "enter number2\n",
      "enter number3\n",
      "Do you want to delete the last number yes / no?no\n"
     ]
    },
    {
     "data": {
      "text/plain": [
       "[1, 2, 3]"
      ]
     },
     "execution_count": 52,
     "metadata": {},
     "output_type": "execute_result"
    }
   ],
   "source": [
    "nums = []\n",
    "answer = 'yes'\n",
    "\n",
    "for i in range(1,3):\n",
    "    nums.append(int(input('enter number')))\n",
    "    if i == 2:\n",
    "        nums.append(int(input('enter number')))\n",
    "        answer = input('Do you want to delete the last number yes / no?')\n",
    "        if answer == 'yes':\n",
    "            del nums[i]\n",
    "        else:\n",
    "            nums\n",
    "            \n",
    "            \n",
    "\n",
    "        \n",
    "nums"
   ]
  }
 ],
 "metadata": {
  "kernelspec": {
   "display_name": "Python 3",
   "language": "python",
   "name": "python3"
  },
  "language_info": {
   "codemirror_mode": {
    "name": "ipython",
    "version": 3
   },
   "file_extension": ".py",
   "mimetype": "text/x-python",
   "name": "python",
   "nbconvert_exporter": "python",
   "pygments_lexer": "ipython3",
   "version": "3.8.5"
  }
 },
 "nbformat": 4,
 "nbformat_minor": 4
}
