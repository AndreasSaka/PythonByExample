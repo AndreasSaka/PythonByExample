{
 "cells": [
  {
   "cell_type": "code",
   "execution_count": null,
   "metadata": {},
   "outputs": [],
   "source": [
    "print(\"First line \\n Second line\")\n",
    "answer=\"Nothing\"\n",
    "print(\"The answer is\", answer)\n",
    "name = str(input(\"Enter your name\"))\n",
    "first_name = str(input(\"What is your name?\"))\n",
    "second_name = str(input(\"What is your second name?\"))\n",
    "print(\"Hello\",first_name, second_name)\n",
    "print(\"What do you call a bear with no teeth? \\n A gummy bear!\")\n",
    "num1 = int(input(\"Enter first number\"))\n",
    "num2 = int(input(\"Enter second number\"))\n",
    "answer = num1 + num2\n",
    "print(\"The total is\", answer)\n",
    "pizza_total = int(input(\"Enter the total pieces of pizza\"))\n",
    "pizza_eaten = int(input(\"Enter the pieces of pizza eaten\"))\n",
    "pizza_left = pizza_eaten*100/pizza_total\n",
    "print(\"The total percentage of eaten pizza is:\", pizza_left)\n",
    "name = str(input(\"Enter your name please\"))\n",
    "age = int(input(\"Enter your age please\"))+1\n",
    "print(name, \"next birthday for you will be\", age)\n",
    "total_bill_price = int(input(\"Enter the total bill price\"))\n",
    "dinner = int(input(\"How many dinners friend?\"))\n",
    "bill_per_person = total_bill_price / dinner\n",
    "print(\"Each person will pay:\",bill_per_person )\n",
    "number_of_days = int(input(\"Please provide the number of days\"))\n",
    "hours = 24*number_of_days\n",
    "minutes =60*hours\n",
    "seconds =60*minutes\n",
    "print(\"The total hours:\", hours, \"The total minutes:\", minutes, 'The total seconds:', seconds )\n",
    "user_weight = int(input(\"Enter the user weight please\"))\n",
    "convert = user_weight * 2.204\n",
    "print(\"The user is\", convert, \"pounds\")\n",
    "number_ov = int(input(\"please enter number over 100\"))\n",
    "number_under = int(input(\"please enter number under 10\"))\n",
    "tell = number_ov // number_under\n",
    "print(\"This many times the smaller goes into the bigger\", tell)\n",
    "text = str.lower('THIS LOWER')\n",
    "number_one = int(input(\"please enter number one\"))\n",
    "number_two = int(input(\"please enter number two\"))\n",
    "if number_one > number_two:\n",
    "    print(number_two)\n",
    "    print(number_one)\n",
    "else:\n",
    "    print(number_one)\n",
    "    print(number_two)\n",
    "giv = int(input(\"Giv between 10 and 20\"))\n",
    "if giv>=10 and giv<=20:\n",
    "    print(\"Thank you\")\n",
    "else:\n",
    "    print(\"Incorrect answer\")\n",
    "\n"
   ]
  }
 ],
 "metadata": {
  "kernelspec": {
   "display_name": "Python 3",
   "language": "python",
   "name": "python3"
  },
  "language_info": {
   "codemirror_mode": {
    "name": "ipython",
    "version": 3
   },
   "file_extension": ".py",
   "mimetype": "text/x-python",
   "name": "python",
   "nbconvert_exporter": "python",
   "pygments_lexer": "ipython3",
   "version": "3.8.5"
  }
 },
 "nbformat": 4,
 "nbformat_minor": 4
}
