{
 "cells": [
  {
   "cell_type": "code",
   "execution_count": 1,
   "metadata": {},
   "outputs": [],
   "source": [
    "import csv"
   ]
  },
  {
   "cell_type": "code",
   "execution_count": 2,
   "metadata": {},
   "outputs": [],
   "source": [
    "file = open(\"Stars.csv\",\"w\")\n",
    "newRecord = \"Brian,73,Taurus\\n\"\n",
    "file.write(str(newRecord))\n",
    "file.close()"
   ]
  },
  {
   "cell_type": "code",
   "execution_count": 6,
   "metadata": {},
   "outputs": [
    {
     "name": "stdout",
     "output_type": "stream",
     "text": [
      "Enter name: Andreas\n",
      "Enter age: 27\n",
      "Enter star sign: Taurus\n"
     ]
    }
   ],
   "source": [
    "file = open(\"Stars.csv\",\"a\")\n",
    "name = input(\"Enter name: \")\n",
    "age = input(\"Enter age: \")\n",
    "star = input(\"Enter star sign: \")\n",
    "newRecord = name + \",\" + age + \",\" + star + \"\\n\"\n",
    "file.write(str(newRecord))\n",
    "file.close()"
   ]
  },
  {
   "cell_type": "code",
   "execution_count": 8,
   "metadata": {},
   "outputs": [
    {
     "name": "stdout",
     "output_type": "stream",
     "text": [
      "Brian,73,Taurus\n",
      "\n",
      "Andreas,27,Taurus\n",
      "\n"
     ]
    }
   ],
   "source": [
    "file = open('Stars.csv','r')\n",
    "for row in file:\n",
    "    print(row)"
   ]
  },
  {
   "cell_type": "code",
   "execution_count": 9,
   "metadata": {},
   "outputs": [
    {
     "name": "stdout",
     "output_type": "stream",
     "text": [
      "['Andreas', '27', 'Taurus']\n"
     ]
    }
   ],
   "source": [
    "file = open('Stars.csv', 'r')\n",
    "reader = csv.reader(file)\n",
    "rows = list(reader)\n",
    "print(rows[1])"
   ]
  },
  {
   "cell_type": "code",
   "execution_count": 10,
   "metadata": {},
   "outputs": [
    {
     "name": "stdout",
     "output_type": "stream",
     "text": [
      "Enter the data you are searching for: Andreas\n",
      "Andreas,27,Taurus\n",
      "\n"
     ]
    }
   ],
   "source": [
    "file = open('Stars.csv','r')\n",
    "search = input(\"Enter the data you are searching for: \")\n",
    "reader = csv.reader(file)\n",
    "for row in file:\n",
    "    if search in str(row):\n",
    "        print(row)"
   ]
  },
  {
   "cell_type": "code",
   "execution_count": 11,
   "metadata": {},
   "outputs": [],
   "source": [
    "file = list(csv.reader(open(\"Stars.csv\")))\n",
    "tmp = []\n",
    "for row in file:\n",
    "    tmp.append(row)"
   ]
  },
  {
   "cell_type": "code",
   "execution_count": 19,
   "metadata": {},
   "outputs": [
    {
     "name": "stdout",
     "output_type": "stream",
     "text": [
      "Brian,73,Taurus\n",
      "\n",
      "Andreas,27,Taurus\n",
      "\n"
     ]
    }
   ],
   "source": [
    "file = open(\"NewStars.csv\",\"w\")\n",
    "x = 0\n",
    "for row in tmp:\n",
    "    newRec = tmp[x][0] + \",\" + tmp[x][1] + ',' + tmp[x][2] + \"\\n\"\n",
    "    print(newRec)\n",
    "    file.write(newRec)\n",
    "    x = x + 1\n",
    "file.close()"
   ]
  },
  {
   "cell_type": "code",
   "execution_count": 22,
   "metadata": {},
   "outputs": [
    {
     "name": "stdout",
     "output_type": "stream",
     "text": [
      "Enter a record delimited with commaTo Kill A Mockingbord, Harper Lee, 1960\n",
      "Enter a record delimited with commaA Brief History of Tome, Stephen Hawking, 1988\n",
      "Enter a record delimited with commaThe Great Gatsby, F.Scott Fitzgerlad, 1922\n",
      "Enter a record delimited with commaThe Man Who Mistook His Wife for a Hat, Oliver Sacks, 1985\n",
      "Enter a record delimited with commaPride and Prejudice, Jane Austen, 1813\n"
     ]
    }
   ],
   "source": [
    "#Challenge 111\n",
    "file = open(\"Books.csv\",\"w\")\n",
    "listA = []\n",
    "for i in range(5):\n",
    "    listA.append(input(\"Enter a record delimited with comma\"))\n",
    "file.close()"
   ]
  },
  {
   "cell_type": "code",
   "execution_count": 24,
   "metadata": {},
   "outputs": [
    {
     "name": "stdout",
     "output_type": "stream",
     "text": [
      "Enter a title: scikit learn tensorflow\n",
      "Enter an author: O'Reilly\n",
      "Enter a year: 2017\n"
     ]
    }
   ],
   "source": [
    "#Challenge 112\n",
    "file = open(\"Books.csv\", \"a\")\n",
    "title = input('Enter a title: ')\n",
    "author = input('Enter an author: ')\n",
    "year = input('Enter a year: ')\n",
    "new_rec = title + ',' + author + ',' + year + '\\n'\n",
    "file.write(str(new_rec))\n",
    "file.close()"
   ]
  },
  {
   "cell_type": "code",
   "execution_count": 30,
   "metadata": {},
   "outputs": [
    {
     "name": "stdout",
     "output_type": "stream",
     "text": [
      "How many new records do you wish to add?: 1\n",
      "Enter a title: Magnets\n",
      "Enter an author: Bruce\n",
      "Enter a year: 2021\n",
      "Enter the author to look for the books: Bruce\n",
      "Terror,Bruce,2020\n",
      "\n",
      "Magnets,Bruce,2021\n",
      "\n"
     ]
    }
   ],
   "source": [
    "#Challenge 113\n",
    "\n",
    "new_recs = int(input('How many new records do you wish to add?: '))\n",
    "file = open(\"Books.csv\", \"a\")\n",
    "new_rec = ''\n",
    "for i in range(new_recs):\n",
    "    title = input('Enter a title: ')\n",
    "    author = input('Enter an author: ')\n",
    "    year = input('Enter a year: ')\n",
    "    new_rec = title + ',' + author + ',' + year + '\\n'\n",
    "    file.write(str(new_rec))\n",
    "file.close()\n",
    "\n",
    "search = input('Enter the author to look for the books: ')\n",
    "file = open(\"Books.csv\", \"r\")\n",
    "for i in file:\n",
    "    if search in str(i):\n",
    "        print(i)"
   ]
  },
  {
   "cell_type": "code",
   "execution_count": 38,
   "metadata": {},
   "outputs": [
    {
     "name": "stdout",
     "output_type": "stream",
     "text": [
      "Enter the first year: 2017\n",
      "Enter the last year: 2020\n",
      "[['scikit learn tensorflow', \"O'Reilly\", '2017'], ['scikit learn tensorflow', \"O'Reilly\", '2017'], ['Terror', 'Bruce', '2020'], ['Magnets', 'Bruce', '2021']]\n",
      "[['scikit learn tensorflow', \"O'Reilly\", '2017'], ['scikit learn tensorflow', \"O'Reilly\", '2017'], ['Terror', 'Bruce', '2020'], ['Magnets', 'Bruce', '2021']]\n",
      "[['scikit learn tensorflow', \"O'Reilly\", '2017'], ['scikit learn tensorflow', \"O'Reilly\", '2017'], ['Terror', 'Bruce', '2020'], ['Magnets', 'Bruce', '2021']]\n"
     ]
    }
   ],
   "source": [
    "#Challenge 114\n",
    "first_year = int(input('Enter the first year: '))\n",
    "last_year = int(input('Enter the last year: '))\n",
    "\n",
    "file = list(csv.reader(open(\"Books.csv\")))\n",
    "listA = []\n",
    "for i in file:\n",
    "    listA.append(i)\n",
    "    \n",
    "x = 0\n",
    "for row in listA:\n",
    "    if int(listA[x][2]) >= first_year and int(listA[x][2]) <= last_year:\n",
    "        print(listA)\n",
    "    x += 1"
   ]
  },
  {
   "cell_type": "code",
   "execution_count": 40,
   "metadata": {},
   "outputs": [
    {
     "name": "stdout",
     "output_type": "stream",
     "text": [
      "Row: 0 - scikit learn tensorflow,O'Reilly,2017\n",
      "\n",
      "Row: 0 - scikit learn tensorflow,O'Reilly,2017\n",
      "\n",
      "Row: 0 - Terror,Bruce,2020\n",
      "\n",
      "Row: 0 - Magnets,Bruce,2021\n",
      "\n"
     ]
    }
   ],
   "source": [
    "#Challenge 115\n",
    "file = open(\"Books.csv\",'r')\n",
    "x = 0\n",
    "for row in file:\n",
    "    dis = \"Row: \" + str(x) +  \" - \" + row\n",
    "    print(dis)"
   ]
  },
  {
   "cell_type": "code",
   "execution_count": 45,
   "metadata": {},
   "outputs": [
    {
     "name": "stdout",
     "output_type": "stream",
     "text": [
      "(0, ['scikit learn tensorflow', \"O'Reilly\", '2017'])\n",
      "(1, ['scikit learn tensorflow', \"O'Reilly\", '2017'])\n",
      "(2, ['Terror', 'Bruce', '2020'])\n",
      "(3, ['Magnets', 'Bruce', '2021'])\n",
      "Provide the row to delete: 1\n"
     ]
    }
   ],
   "source": [
    "#Challenge 116\n",
    "file = list(csv.reader(open(\"Books.csv\")))\n",
    "for i in enumerate(file):\n",
    "    print(i)\n",
    "row_ask = int(input('Provide the row to delete: '))\n",
    "del file[row_ask] \n",
    "\n",
    "change = int(input(\"Which row do you wish to change?: \"))\n",
    "part = int(input(\"Which part do you wish to change?: \"))\n",
    "new_change = input(\"Enter new data: \")\n",
    "file[change][part] = new_change"
   ]
  },
  {
   "cell_type": "code",
   "execution_count": 47,
   "metadata": {},
   "outputs": [],
   "source": [
    "#Challenge 117\n",
    "\n"
   ]
  }
 ],
 "metadata": {
  "kernelspec": {
   "display_name": "Python 3",
   "language": "python",
   "name": "python3"
  },
  "language_info": {
   "codemirror_mode": {
    "name": "ipython",
    "version": 3
   },
   "file_extension": ".py",
   "mimetype": "text/x-python",
   "name": "python",
   "nbconvert_exporter": "python",
   "pygments_lexer": "ipython3",
   "version": "3.8.5"
  }
 },
 "nbformat": 4,
 "nbformat_minor": 4
}
