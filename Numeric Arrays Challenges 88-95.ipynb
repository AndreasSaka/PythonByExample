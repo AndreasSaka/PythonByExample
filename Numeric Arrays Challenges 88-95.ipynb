{
 "cells": [
  {
   "cell_type": "code",
   "execution_count": 40,
   "metadata": {},
   "outputs": [
    {
     "name": "stdout",
     "output_type": "stream",
     "text": [
      "Enter a number: 5\n",
      "Enter a number: 6\n",
      "Enter a number: 80\n",
      "Enter a number: 6\n",
      "Enter a number: 4\n",
      "[80, 6, 6, 5, 4]\n"
     ]
    }
   ],
   "source": [
    "#Challenge 088\n",
    "from array import *\n",
    "nums = array('i',[])\n",
    "for i in range(0,5):\n",
    "    num = int(input(\"Enter a number: \"))\n",
    "    nums.append(num)\n",
    "nums = sorted(nums)\n",
    "nums.reverse()\n",
    "print(nums)"
   ]
  },
  {
   "cell_type": "code",
   "execution_count": 5,
   "metadata": {},
   "outputs": [
    {
     "name": "stdout",
     "output_type": "stream",
     "text": [
      "10\n",
      "3\n",
      "10\n",
      "3\n",
      "0\n"
     ]
    }
   ],
   "source": [
    "#Challenge 089\n",
    "import random\n",
    "nums = array('i',[])\n",
    "for i in range(0,5):\n",
    "    num = random.randint(0,10)\n",
    "    nums.append(num)\n",
    "\n",
    "    \n",
    "for i in nums:\n",
    "    print(i)"
   ]
  },
  {
   "cell_type": "code",
   "execution_count": 8,
   "metadata": {},
   "outputs": [
    {
     "name": "stdout",
     "output_type": "stream",
     "text": [
      "Enter a number: 5\n",
      "Enter a number: 6\n",
      "Enter a number: 3\n",
      "Enter a number: 3\n",
      "Enter a number: 20\n"
     ]
    }
   ],
   "source": [
    "#Challenge 090\n",
    "\n",
    "nums = array('i',[])\n",
    "while len(nums)<5:\n",
    "    num = int(input(\"Enter a number: \"))\n",
    "    if num<10 and num>20:\n",
    "        print(\"Outside the range\")\n",
    "    else:\n",
    "        nums.append(num)\n",
    "          "
   ]
  },
  {
   "cell_type": "code",
   "execution_count": 12,
   "metadata": {},
   "outputs": [
    {
     "name": "stdout",
     "output_type": "stream",
     "text": [
      "array('i', [2, 2, 5, 6, 9])\n",
      "Enter a number that is included in the array: 2\n",
      "The 2 is in the array 2 times\n"
     ]
    }
   ],
   "source": [
    "#Challenge 091\n",
    "nums = array('i',[2,2,5,6,9])\n",
    "print(nums)\n",
    "num = int(input(\"Enter a number that is included in the array: \"))\n",
    "if nums.count(num) == 1:\n",
    "    print(f'The {num} is in the array one time')\n",
    "else:\n",
    "    print(f'The {num} is in the array {nums.count(num)} times')"
   ]
  },
  {
   "cell_type": "code",
   "execution_count": 15,
   "metadata": {},
   "outputs": [
    {
     "name": "stdout",
     "output_type": "stream",
     "text": [
      "Enter a number: 5\n",
      "Enter a number: 6\n",
      "Enter a number: 86\n",
      "Enter a number: 9\n",
      "Enter a number: 7\n",
      "3\n",
      "5\n",
      "6\n",
      "7\n",
      "7\n",
      "8\n",
      "9\n",
      "9\n",
      "10\n",
      "86\n"
     ]
    }
   ],
   "source": [
    "#Challenge 092\n",
    "nums = array('i',[])\n",
    "for i in range(0,5):\n",
    "    num = int(input(\"Enter a number: \"))\n",
    "    nums.append(num)\n",
    "    \n",
    "randnums = array('i',[])\n",
    "for i in range(0,5):\n",
    "    num2 = random.randint(0,10)\n",
    "    randnums.append(num2)\n",
    "    \n",
    "    \n",
    "nums.extend(randnums)\n",
    "new = sorted(nums)\n",
    "\n",
    "for i in new:\n",
    "    print(i)\n"
   ]
  },
  {
   "cell_type": "code",
   "execution_count": 48,
   "metadata": {},
   "outputs": [
    {
     "name": "stdout",
     "output_type": "stream",
     "text": [
      "array('i')\n",
      "Enter a number that will be stored in the array: 5\n",
      "Enter a number that will be stored in the array: 4\n",
      "Enter a number that will be stored in the array: 3\n",
      "Enter a number that will be stored in the array: 2\n",
      "Enter a number that will be stored in the array: 1\n",
      "array('i', [5, 4, 3, 2, 1])\n",
      "Enter a number that will be removed the array: 1\n",
      "[2, 3, 4, 5]\n"
     ]
    }
   ],
   "source": [
    "#Challenge 093\n",
    "nums = array('i',[])\n",
    "print(nums)\n",
    "for i in range(0,5):\n",
    "    num = int(input(\"Enter a number that will be stored in the array: \"))\n",
    "    nums.append(num)\n",
    "\n",
    "    \n",
    "print(nums)\n",
    "nums = sorted(nums)\n",
    "\n",
    "\n",
    "\n",
    "num2 = int(input(\"Enter a number that will be removed the array: \"))\n",
    "\n",
    "nums.remove(num2)\n",
    "\n",
    "print(nums)\n",
    "\n",
    "nums2 = nums2.append(num2)\n",
    "print(nums2)\n"
   ]
  },
  {
   "cell_type": "code",
   "execution_count": 56,
   "metadata": {},
   "outputs": [
    {
     "name": "stdout",
     "output_type": "stream",
     "text": [
      "array('i', [2, 2, 5, 6, 9])\n",
      "Select a number from the array: 10\n",
      "Select a number from the array: 5\n"
     ]
    }
   ],
   "source": [
    "#Challenge 094\n",
    "nums = array('i',[2,2,5,6,9])\n",
    "print(nums)\n",
    "num = int(input('Select a number from the array: '))    \n",
    "while num not in nums:\n",
    "    num = int(input('You need to select a number from the array: '))\n",
    "    nums.index(num)\n"
   ]
  },
  {
   "cell_type": "code",
   "execution_count": 59,
   "metadata": {},
   "outputs": [
    {
     "name": "stdout",
     "output_type": "stream",
     "text": [
      "Enter a whole number between 2 and 5: 5\n",
      "6.95\n",
      "5.47\n",
      "11.11\n",
      "13.74\n",
      "19.92\n"
     ]
    }
   ],
   "source": [
    "#Challenge 095\n",
    "import math\n",
    "nums = array('f',[34.75,27.33,55.55,68.68,99.58])\n",
    "answer = False\n",
    "num = int(input('Enter a whole number between 2 and 5: ')) \n",
    "while answer == False:\n",
    "    if num<2 or num>5:\n",
    "        answer = False\n",
    "        num = int(input('Enter a whole number between 2 and 5: '))\n",
    "    else:\n",
    "        answer = True\n",
    "\n",
    "for i in range(0,5):\n",
    "    div = nums[i]/num\n",
    "    print(round(div,2))"
   ]
  },
  {
   "cell_type": "code",
   "execution_count": 6,
   "metadata": {},
   "outputs": [
    {
     "name": "stdout",
     "output_type": "stream",
     "text": [
      "<class 'int'>\n",
      "6\n"
     ]
    }
   ],
   "source": [
    "# import the random module\n",
    "import random\n",
    "# generate a random integer between 0 and 10\n",
    "num = random.randint(0,10)\n",
    "# print the type of the num variable \n",
    "print(type(num))\n",
    "# print the value inside the num variable\n",
    "print(num)"
   ]
  },
  {
   "cell_type": "code",
   "execution_count": 39,
   "metadata": {},
   "outputs": [
    {
     "name": "stdout",
     "output_type": "stream",
     "text": [
      "['ins', 'ins']\n"
     ]
    }
   ],
   "source": [
    "# import the re module\n",
    "import re\n",
    "# the text_var is a string variable\n",
    "txt = \"Mozilla has nice plug-ins.\"\n",
    "# between the quotation marks the user can specify the searching pattern.\n",
    "x = re.findall(\"ins\", txt) \n",
    "# print the value inside the x variable\n",
    "print(x)"
   ]
  },
  {
   "cell_type": "code",
   "execution_count": 31,
   "metadata": {},
   "outputs": [],
   "source": [
    "from pyreadline import Readline\n",
    "readline = Readline()"
   ]
  },
  {
   "cell_type": "code",
   "execution_count": 33,
   "metadata": {},
   "outputs": [
    {
     "name": "stdout",
     "output_type": "stream",
     "text": [
      "<pyreadline.rlmain.Readline object at 0x0000025319A7E640>\n"
     ]
    }
   ],
   "source": [
    "print(readline)"
   ]
  },
  {
   "cell_type": "code",
   "execution_count": 38,
   "metadata": {},
   "outputs": [
    {
     "name": "stdout",
     "output_type": "stream",
     "text": [
      "Done\n"
     ]
    }
   ],
   "source": [
    "import readline as rl\n",
    "import os\n",
    "import atexit\n",
    "\n",
    "my_hist_file = os.path.join(os.path.expanduser(\"~\"), \".my_python_hist\")\n",
    "try:\n",
    "   rl.read_history_file(my_hist_file)\n",
    "   rl.clear_history()\n",
    "except FileNotFoundError:\n",
    "   pass\n",
    "    \n",
    "print(\"Done\")\n",
    "atexit.register(rl.write_history_file, my_hist_file)\n",
    "del os, my_hist_file"
   ]
  },
  {
   "cell_type": "code",
   "execution_count": null,
   "metadata": {},
   "outputs": [],
   "source": []
  }
 ],
 "metadata": {
  "kernelspec": {
   "display_name": "Python 3",
   "language": "python",
   "name": "python3"
  },
  "language_info": {
   "codemirror_mode": {
    "name": "ipython",
    "version": 3
   },
   "file_extension": ".py",
   "mimetype": "text/x-python",
   "name": "python",
   "nbconvert_exporter": "python",
   "pygments_lexer": "ipython3",
   "version": "3.8.5"
  }
 },
 "nbformat": 4,
 "nbformat_minor": 4
}
