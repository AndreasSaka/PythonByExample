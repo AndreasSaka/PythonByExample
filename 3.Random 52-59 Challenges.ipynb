{
 "cells": [
  {
   "cell_type": "code",
   "execution_count": 6,
   "metadata": {},
   "outputs": [
    {
     "name": "stdout",
     "output_type": "stream",
     "text": [
      "84\n"
     ]
    }
   ],
   "source": [
    "#Challenge 52\n",
    "import random\n",
    "print(random.randint(1,100))"
   ]
  },
  {
   "cell_type": "code",
   "execution_count": 7,
   "metadata": {},
   "outputs": [
    {
     "name": "stdout",
     "output_type": "stream",
     "text": [
      "green\n"
     ]
    }
   ],
   "source": [
    "#Challenge 53\n",
    "print(random.choice([\"red\",\"black\",\"green\"]))"
   ]
  },
  {
   "cell_type": "code",
   "execution_count": 10,
   "metadata": {},
   "outputs": [
    {
     "name": "stdout",
     "output_type": "stream",
     "text": [
      "Select h/t h\n",
      "Bad luck!\n",
      "Select h/t t\n",
      "You win\n",
      "t\n"
     ]
    }
   ],
   "source": [
    "#Challenge 54\n",
    "choice = random.choice([\"h\",\"t\"])\n",
    "guess = str(input(\"Select h/t \"))\n",
    "while choice != guess:\n",
    "    print(\"Bad luck!\")\n",
    "    guess = str(input(\"Select h/t \"))\n",
    "    if choice == guess:\n",
    "        print(\"You win\")\n",
    "print(choice)"
   ]
  },
  {
   "cell_type": "code",
   "execution_count": 16,
   "metadata": {},
   "outputs": [
    {
     "name": "stdout",
     "output_type": "stream",
     "text": [
      "Please pick a number 5\n",
      "Too high pick again\n",
      "Please pick a number 3\n",
      "Too high pick again\n",
      "Please pick a number 4\n",
      "Too high pick again\n",
      "Please pick a number 2\n",
      "Too high pick again\n",
      "Please pick a number 1\n",
      "The number was 1\n"
     ]
    }
   ],
   "source": [
    "#Challenge 55\n",
    "num = random.randint(1,5)\n",
    "guess = int(input(\"Please pick a number \"))\n",
    "\n",
    "while num != guess:\n",
    "    if num < guess:\n",
    "        print(\"Too high pick again\")\n",
    "        guess = int(input(\"Please pick a number \"))\n",
    "    elif num > guess:\n",
    "        print(\"Too low pick again\")\n",
    "        guess = int(input(\"Please pick a number \"))\n",
    "    elif num == guess:\n",
    "        print(\"Well done\")\n",
    "print(\"The number was {}\".format(num))\n"
   ]
  },
  {
   "cell_type": "code",
   "execution_count": 18,
   "metadata": {},
   "outputs": [
    {
     "name": "stdout",
     "output_type": "stream",
     "text": [
      "Please pick a number 5\n",
      "YOu need to keep guessing\n",
      "Please pick a number 3\n",
      "YOu need to keep guessing\n",
      "Please pick a number 4\n",
      "YOu need to keep guessing\n",
      "Please pick a number 2\n",
      "YOu need to keep guessing\n",
      "Please pick a number 3\n",
      "YOu need to keep guessing\n",
      "Please pick a number 1\n",
      "YOu need to keep guessing\n",
      "Please pick a number 2\n",
      "YOu need to keep guessing\n",
      "Please pick a number 3\n",
      "YOu need to keep guessing\n",
      "Please pick a number 4\n",
      "YOu need to keep guessing\n",
      "Please pick a number 5\n",
      "YOu need to keep guessing\n",
      "Please pick a number 6\n",
      "YOu need to keep guessing\n",
      "Please pick a number 7\n",
      "YOu need to keep guessing\n",
      "Please pick a number 8\n"
     ]
    }
   ],
   "source": [
    "#Challenge 56\n",
    "num = random.randint(1,10)\n",
    "guess = int(input(\"Please pick a number \"))\n",
    "while guess != num:\n",
    "    print(\"YOu need to keep guessing\")\n",
    "    guess = int(input(\"Please pick a number \"))\n",
    "    "
   ]
  },
  {
   "cell_type": "code",
   "execution_count": 20,
   "metadata": {},
   "outputs": [
    {
     "name": "stdout",
     "output_type": "stream",
     "text": [
      "Please pick a number 5\n",
      "YOu need to keep guessing\n",
      "Too low pick again\n",
      "Please pick a number 3\n",
      "YOu need to keep guessing\n",
      "Too low pick again\n",
      "Please pick a number 15\n",
      "YOu need to keep guessing\n",
      "Too high pick again\n",
      "Please pick a number 10\n",
      "YOu need to keep guessing\n",
      "Too high pick again\n",
      "Please pick a number 9\n",
      "YOu need to keep guessing\n",
      "Too high pick again\n",
      "Please pick a number 8\n",
      "YOu need to keep guessing\n",
      "Too high pick again\n",
      "Please pick a number 7\n",
      "YOu need to keep guessing\n",
      "Too high pick again\n",
      "Please pick a number 6\n"
     ]
    }
   ],
   "source": [
    "#Challenge 57\n",
    "num = random.randint(1,10)\n",
    "guess = int(input(\"Please pick a number \"))\n",
    "while guess != num:\n",
    "    if num < guess:\n",
    "        print(\"YOu need to keep guessing\")\n",
    "        print(\"Too high pick again\")\n",
    "        guess = int(input(\"Please pick a number \"))\n",
    "    elif num > guess:\n",
    "        print(\"YOu need to keep guessing\")\n",
    "        print(\"Too low pick again\")\n",
    "        guess = int(input(\"Please pick a number \"))\n",
    "    elif num == guess:\n",
    "        print(\"Well done\") "
   ]
  },
  {
   "cell_type": "code",
   "execution_count": 28,
   "metadata": {},
   "outputs": [
    {
     "name": "stdout",
     "output_type": "stream",
     "text": [
      "7+2\n",
      "Your answer9\n",
      "That is correct\n",
      "3+6\n",
      "Your answer9\n",
      "That is correct\n",
      "6+4\n",
      "Your answer10\n",
      "That is correct\n",
      "10+5\n",
      "Your answer15\n",
      "That is correct\n",
      "4+1\n",
      "Your answer5\n",
      "That is correct\n",
      "Your score is 5\n"
     ]
    }
   ],
   "source": [
    "#Challenge 58\n",
    "\n",
    "score = 0\n",
    "for i in range(1,6):\n",
    "    num1 = random.randint(1,10)\n",
    "    num2 = random.randint(1,10)\n",
    "    answer = num1 + num2\n",
    "    print(\"{}+{}\".format(num1,num2))\n",
    "    an = int(input('Your answer'))\n",
    "    if an == answer:\n",
    "        print(\"That is correct\")\n",
    "        score += 1\n",
    "print(\"Your score is {}\".format(score))\n",
    "\n"
   ]
  },
  {
   "cell_type": "code",
   "execution_count": 31,
   "metadata": {},
   "outputs": [
    {
     "name": "stdout",
     "output_type": "stream",
     "text": [
      "Enter a guess regarding the colors red\n",
      "pink floyd\n",
      "Enter a guess regarding the colors black\n",
      "pink floyd\n",
      "Enter a guess regarding the colors PINK\n",
      "Well done\n"
     ]
    }
   ],
   "source": [
    "#Challenge 59\n",
    "\n",
    "color = random.choice([\"red\",\"black\",\"green\",\"purple\",\"pink\"])\n",
    "\n",
    "tryouts = True\n",
    "while tryouts == True:\n",
    "    guess = str(input(\"Enter a guess regarding the colors \"))\n",
    "    guess = guess.lower()\n",
    "    if guess == color:\n",
    "        print(\"Well done\")\n",
    "        tryouts = False\n",
    "    elif color == \"red\":\n",
    "        print(\"The red capes are coming\")\n",
    "    elif color == \"black\":\n",
    "        print(\"Paint it black\")\n",
    "    elif color == \"green\":\n",
    "        print(\"Eat your greens\")\n",
    "    elif color == \"purple\":\n",
    "        print(\"Purple haze\")\n",
    "    elif color == \"pink\":\n",
    "        print(\"pink floyd\")"
   ]
  }
 ],
 "metadata": {
  "kernelspec": {
   "display_name": "Python 3",
   "language": "python",
   "name": "python3"
  },
  "language_info": {
   "codemirror_mode": {
    "name": "ipython",
    "version": 3
   },
   "file_extension": ".py",
   "mimetype": "text/x-python",
   "name": "python",
   "nbconvert_exporter": "python",
   "pygments_lexer": "ipython3",
   "version": "3.8.5"
  }
 },
 "nbformat": 4,
 "nbformat_minor": 4
}
