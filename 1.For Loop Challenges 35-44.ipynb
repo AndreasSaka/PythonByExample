{
 "cells": [
  {
   "cell_type": "code",
   "execution_count": 3,
   "metadata": {},
   "outputs": [
    {
     "name": "stdout",
     "output_type": "stream",
     "text": [
      "Enter your name: Andreas\n",
      "Andreas\n",
      "Andreas\n",
      "Andreas\n"
     ]
    }
   ],
   "source": [
    "#Challenge 035\n",
    "name = str(input(\"Enter your name: \"))\n",
    "for i in range(0,3):\n",
    "    print(name)\n",
    "    i += 1"
   ]
  },
  {
   "cell_type": "code",
   "execution_count": 8,
   "metadata": {},
   "outputs": [
    {
     "name": "stdout",
     "output_type": "stream",
     "text": [
      "Enter your name: Andreas\n",
      "Provide how many times to display your name: 3\n",
      "Andreas\n",
      "Andreas\n",
      "Andreas\n"
     ]
    }
   ],
   "source": [
    "#Challenge 036\n",
    "name = str(input(\"Enter your name: \"))\n",
    "number = int(input(\"Provide how many times to display your name: \"))\n",
    "for i in range(number):\n",
    "    print(name)\n",
    "    i += 1"
   ]
  },
  {
   "cell_type": "code",
   "execution_count": null,
   "metadata": {},
   "outputs": [],
   "source": [
    "#Challenge 037\n",
    "name = str(input(\"Enter your name: \"))\n",
    "number = int(input(\"Provide how many times to display your name: \"))\n",
    "for i in range(number):\n",
    "    i += 1\n",
    "    for j in name:\n",
    "        print(j)"
   ]
  },
  {
   "cell_type": "code",
   "execution_count": 12,
   "metadata": {},
   "outputs": [
    {
     "name": "stdout",
     "output_type": "stream",
     "text": [
      "Enter your name: Andras\n",
      "A\n",
      "n\n",
      "d\n",
      "r\n",
      "a\n",
      "s\n"
     ]
    }
   ],
   "source": [
    "#Challenge 038\n",
    "name = str(input(\"Enter your name: \"))\n",
    "for j in name:\n",
    "    print(j)"
   ]
  },
  {
   "cell_type": "code",
   "execution_count": null,
   "metadata": {},
   "outputs": [],
   "source": [
    "#Challenge 038\n",
    "name = str(input(\"Enter your name: \"))\n",
    "number = int(input(\"Provide how many times to display your name: \"))\n",
    "for i in range(number):\n",
    "    i += 1\n",
    "    for j in name:\n",
    "        print(j)"
   ]
  },
  {
   "cell_type": "code",
   "execution_count": 17,
   "metadata": {},
   "outputs": [
    {
     "name": "stdout",
     "output_type": "stream",
     "text": [
      "Provide a number between 1 and 12: 2\n",
      "This is the times table for 1\n",
      "1 times 0 equals 0\n",
      "1 times 1 equals 1\n",
      "1 times 2 equals 2\n",
      "1 times 3 equals 3\n",
      "1 times 4 equals 4\n",
      "1 times 5 equals 5\n",
      "1 times 6 equals 6\n",
      "1 times 7 equals 7\n",
      "1 times 8 equals 8\n",
      "1 times 9 equals 9\n",
      "1 times 10 equals 10\n",
      "This is the times table for 2\n",
      "2 times 0 equals 0\n",
      "2 times 1 equals 2\n",
      "2 times 2 equals 4\n",
      "2 times 3 equals 6\n",
      "2 times 4 equals 8\n",
      "2 times 5 equals 10\n",
      "2 times 6 equals 12\n",
      "2 times 7 equals 14\n",
      "2 times 8 equals 16\n",
      "2 times 9 equals 18\n",
      "2 times 10 equals 20\n"
     ]
    }
   ],
   "source": [
    "#Challenge 039\n",
    "number = int(input(\"Provide a number between 1 and 12: \"))\n",
    "for i in range(number):\n",
    "    i += 1\n",
    "    print(\"This is the times table for\", i)\n",
    "    for j in range(11):\n",
    "        print(i, \"times\", j, \"equals\", i*j)\n",
    "        "
   ]
  },
  {
   "cell_type": "code",
   "execution_count": 19,
   "metadata": {},
   "outputs": [
    {
     "name": "stdout",
     "output_type": "stream",
     "text": [
      "Provide a number between 1 and 12: 1\n",
      "1 x 1 = 1\n",
      "2 x 1 = 2\n",
      "3 x 1 = 3\n",
      "4 x 1 = 4\n",
      "5 x 1 = 5\n",
      "6 x 1 = 6\n",
      "7 x 1 = 7\n",
      "8 x 1 = 8\n",
      "9 x 1 = 9\n",
      "10 x 1 = 10\n",
      "11 x 1 = 11\n",
      "12 x 1 = 12\n"
     ]
    }
   ],
   "source": [
    "number = int(input(\"Provide a number between 1 and 12: \"))\n",
    "for i in range(1, 13):\n",
    "    answer = i * number\n",
    "    print(i, \"x\", number, \"=\", answer)"
   ]
  },
  {
   "cell_type": "code",
   "execution_count": 25,
   "metadata": {},
   "outputs": [
    {
     "name": "stdout",
     "output_type": "stream",
     "text": [
      "Please provide a number below 50: 1\n",
      "50\n",
      "49\n",
      "48\n",
      "47\n",
      "46\n",
      "45\n",
      "44\n",
      "43\n",
      "42\n",
      "41\n",
      "40\n",
      "39\n",
      "38\n",
      "37\n",
      "36\n",
      "35\n",
      "34\n",
      "33\n",
      "32\n",
      "31\n",
      "30\n",
      "29\n",
      "28\n",
      "27\n",
      "26\n",
      "25\n",
      "24\n",
      "23\n",
      "22\n",
      "21\n",
      "20\n",
      "19\n",
      "18\n",
      "17\n",
      "16\n",
      "15\n",
      "14\n",
      "13\n",
      "12\n",
      "11\n",
      "10\n",
      "9\n",
      "8\n",
      "7\n",
      "6\n",
      "5\n",
      "4\n",
      "3\n",
      "2\n",
      "1\n"
     ]
    }
   ],
   "source": [
    "#Challenge 040\n",
    "number = int(input(\"Please provide a number below 50: \"))\n",
    "for i in range(50,number-1,-1):\n",
    "    print(i)"
   ]
  },
  {
   "cell_type": "code",
   "execution_count": 28,
   "metadata": {},
   "outputs": [
    {
     "name": "stdout",
     "output_type": "stream",
     "text": [
      "Enter your name please: Andreas\n",
      "Enter a number please: 11\n",
      "Too high\n",
      "Too high\n",
      "Too high\n"
     ]
    }
   ],
   "source": [
    "#Challenge 041\n",
    "name = str(input(\"Enter your name please: \"))\n",
    "number = int(input(\"Enter a number please: \"))\n",
    "if number <10:\n",
    "    for j in range(number):\n",
    "        print(name)\n",
    "else:\n",
    "    for i in range(3):\n",
    "        print(\"Too high\")"
   ]
  },
  {
   "cell_type": "code",
   "execution_count": 35,
   "metadata": {},
   "outputs": [
    {
     "name": "stdout",
     "output_type": "stream",
     "text": [
      "Enter the 1 number: 90\n",
      "Do you want this number included to the total amount? Enter Yes or No: Yes\n",
      "Enter the 2 number: 100\n",
      "Do you want this number included to the total amount? Enter Yes or No: Yes\n",
      "Enter the 3 number: 50\n",
      "Do you want this number included to the total amount? Enter Yes or No: Yes\n",
      "Enter the 4 number: 50\n",
      "Do you want this number included to the total amount? Enter Yes or No: Yes\n",
      "Enter the 5 number: 50\n",
      "Do you want this number included to the total amount? Enter Yes or No: Yes\n",
      "340\n"
     ]
    }
   ],
   "source": [
    "#Challenge 042\n",
    "total = 0\n",
    "for i in range(5):\n",
    "    num = int(input(\"Enter the {} number: \".format(i+1)))\n",
    "    answer = str(input(\"Do you want this number included to the total amount? Enter Yes or No: \"))\n",
    "    if answer == \"Yes\":\n",
    "        total += num\n",
    "    else:\n",
    "        total = total\n",
    "print(total)"
   ]
  },
  {
   "cell_type": "code",
   "execution_count": 41,
   "metadata": {},
   "outputs": [
    {
     "name": "stdout",
     "output_type": "stream",
     "text": [
      "Which direction to count up/down ?: down\n",
      "Provide a number below 2019\n"
     ]
    },
    {
     "ename": "TypeError",
     "evalue": "'float' object cannot be interpreted as an integer",
     "output_type": "error",
     "traceback": [
      "\u001b[1;31m---------------------------------------------------------------------------\u001b[0m",
      "\u001b[1;31mTypeError\u001b[0m                                 Traceback (most recent call last)",
      "\u001b[1;32m<ipython-input-41-8a6d362962de>\u001b[0m in \u001b[0;36m<module>\u001b[1;34m\u001b[0m\n\u001b[0;32m      8\u001b[0m \u001b[1;32melif\u001b[0m \u001b[0mdirection\u001b[0m \u001b[1;33m==\u001b[0m \u001b[1;34m'down'\u001b[0m\u001b[1;33m:\u001b[0m\u001b[1;33m\u001b[0m\u001b[1;33m\u001b[0m\u001b[0m\n\u001b[0;32m      9\u001b[0m     \u001b[0mdown_num\u001b[0m \u001b[1;33m=\u001b[0m \u001b[0mfloat\u001b[0m\u001b[1;33m(\u001b[0m\u001b[0minput\u001b[0m\u001b[1;33m(\u001b[0m\u001b[1;34m\"Provide a number below 20\"\u001b[0m\u001b[1;33m)\u001b[0m\u001b[1;33m)\u001b[0m\u001b[1;33m\u001b[0m\u001b[1;33m\u001b[0m\u001b[0m\n\u001b[1;32m---> 10\u001b[1;33m     \u001b[1;32mfor\u001b[0m \u001b[0mj\u001b[0m \u001b[1;32min\u001b[0m \u001b[0mrange\u001b[0m\u001b[1;33m(\u001b[0m\u001b[1;36m20\u001b[0m\u001b[1;33m,\u001b[0m\u001b[0mdown_num\u001b[0m\u001b[1;33m-\u001b[0m\u001b[1;36m1\u001b[0m\u001b[1;33m,\u001b[0m\u001b[1;33m-\u001b[0m\u001b[1;36m1\u001b[0m\u001b[1;33m)\u001b[0m\u001b[1;33m:\u001b[0m\u001b[1;33m\u001b[0m\u001b[1;33m\u001b[0m\u001b[0m\n\u001b[0m\u001b[0;32m     11\u001b[0m         \u001b[0mprint\u001b[0m\u001b[1;33m(\u001b[0m\u001b[0mj\u001b[0m\u001b[1;33m)\u001b[0m\u001b[1;33m\u001b[0m\u001b[1;33m\u001b[0m\u001b[0m\n\u001b[0;32m     12\u001b[0m         \u001b[0mj\u001b[0m \u001b[1;33m-=\u001b[0m \u001b[1;36m1\u001b[0m\u001b[1;33m\u001b[0m\u001b[1;33m\u001b[0m\u001b[0m\n",
      "\u001b[1;31mTypeError\u001b[0m: 'float' object cannot be interpreted as an integer"
     ]
    }
   ],
   "source": [
    "#Challenge 043\n",
    "direction = str(input(\"Which direction to count up/down ?: \"))\n",
    "if direction == 'up':\n",
    "    top_num = int(input(\"Provide the top number: \"))\n",
    "    for i in range(1,top_num):\n",
    "        print(i)\n",
    "        i+=1\n",
    "elif direction == 'down':\n",
    "    down_num = int(input(\"Provide a number below 20\"))\n",
    "    for j in range(20,down_num-1,-1):\n",
    "        print(j)\n",
    "        j -= 1\n",
    "else:\n",
    "    print(\"I do not understand\")"
   ]
  },
  {
   "cell_type": "code",
   "execution_count": 45,
   "metadata": {},
   "outputs": [
    {
     "name": "stdout",
     "output_type": "stream",
     "text": [
      "Enter the amount of people you want to invite in the party9\n",
      "Enter nameAndreas\n",
      "Andreas has been invited\n",
      "Enter nameChris\n",
      "Chris has been invited\n",
      "Enter nameAlex\n",
      "Alex has been invited\n",
      "Enter nameTaoran\n",
      "Taoran has been invited\n",
      "Enter namePanos\n",
      "Panos has been invited\n",
      "Enter nameAbhi\n",
      "Abhi has been invited\n",
      "Enter nameGeorge\n",
      "George has been invited\n",
      "Enter nameJeron\n",
      "Jeron has been invited\n",
      "Enter nameJohn\n",
      "John has been invited\n"
     ]
    }
   ],
   "source": [
    "#Challenge 043\n",
    "num_people = int(input(\"Enter the amount of people you want to invite in the party\"))\n",
    "if num_people < 10:\n",
    "    for i in range(0,num_people):\n",
    "        party_name = str(input(\"Enter name\"))\n",
    "        print(\"{} has been invited \".format(party_name))\n",
    "else:\n",
    "    print(\"Too many people\")"
   ]
  },
  {
   "cell_type": "code",
   "execution_count": null,
   "metadata": {},
   "outputs": [],
   "source": []
  }
 ],
 "metadata": {
  "kernelspec": {
   "display_name": "Python 3",
   "language": "python",
   "name": "python3"
  },
  "language_info": {
   "codemirror_mode": {
    "name": "ipython",
    "version": 3
   },
   "file_extension": ".py",
   "mimetype": "text/x-python",
   "name": "python",
   "nbconvert_exporter": "python",
   "pygments_lexer": "ipython3",
   "version": "3.8.5"
  }
 },
 "nbformat": 4,
 "nbformat_minor": 4
}
