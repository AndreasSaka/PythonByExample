{
 "cells": [
  {
   "cell_type": "code",
   "execution_count": 5,
   "metadata": {},
   "outputs": [
    {
     "name": "stdout",
     "output_type": "stream",
     "text": [
      "Enter nameAndreas\n",
      "7\n",
      "Enter surnameSaka\n",
      "4\n",
      "12\n"
     ]
    }
   ],
   "source": [
    "#Challenge 080\n",
    "name = input(\"Enter name\")\n",
    "print(len(name))\n",
    "sur = input(\"Enter surname\")\n",
    "print(len(sur))\n",
    "whole_name = name + ' ' + sur\n",
    "print(len(whole_name))"
   ]
  },
  {
   "cell_type": "code",
   "execution_count": 6,
   "metadata": {},
   "outputs": [
    {
     "name": "stdout",
     "output_type": "stream",
     "text": [
      "Enter your favorite subjectMathematics\n",
      "M-a-t-h-e-m-a-t-i-c-s-"
     ]
    }
   ],
   "source": [
    "#Challenge 081\n",
    "favorite_subject = input(\"Enter your favorite subject\")\n",
    "for item in favorite_subject:\n",
    "    print(item, end = '-')"
   ]
  },
  {
   "cell_type": "code",
   "execution_count": null,
   "metadata": {},
   "outputs": [],
   "source": [
    "#Challenge 082\n",
    "enter_line = input('Enter a line from your favorite poem')\n",
    "enter_start = int(input('Enter starting point'))\n",
    "enter_end = int(input('Enter ending point'))\n",
    "print(enter_line[enter_start:enter_end])"
   ]
  },
  {
   "cell_type": "code",
   "execution_count": 9,
   "metadata": {},
   "outputs": [
    {
     "name": "stdout",
     "output_type": "stream",
     "text": [
      "Enter word in upper caselower\n",
      "Enter word in upper casejupyter\n",
      "Enter word in upper caseELEPHANT\n"
     ]
    }
   ],
   "source": [
    "#Challenge 083\n",
    "inp = input('Enter word in upper case')\n",
    "while inp.islower():\n",
    "    inp = input('Enter word in upper case')"
   ]
  },
  {
   "cell_type": "code",
   "execution_count": 10,
   "metadata": {},
   "outputs": [
    {
     "name": "stdout",
     "output_type": "stream",
     "text": [
      "Enter postcode in upper case2896KT\n",
      "28\n"
     ]
    }
   ],
   "source": [
    "#Challenge 084\n",
    "postcode = input('Enter postcode in upper case')\n",
    "print(postcode[:2])"
   ]
  },
  {
   "cell_type": "code",
   "execution_count": 15,
   "metadata": {},
   "outputs": [
    {
     "name": "stdout",
     "output_type": "stream",
     "text": [
      "Enter name: OZYMANDIAS\n",
      "Your ozymandias has 4 vowels\n"
     ]
    }
   ],
   "source": [
    "#Challenge 085\n",
    "name = input(\"Enter name: \")\n",
    "vowels = ['a','e','i','o','u']\n",
    "vow = 0\n",
    "name = name.lower()\n",
    "for i in name:\n",
    "    if i in vowels:\n",
    "        vow += 1\n",
    "print(f'Your {name} has {vow} vowels')"
   ]
  },
  {
   "cell_type": "code",
   "execution_count": 16,
   "metadata": {},
   "outputs": [
    {
     "name": "stdout",
     "output_type": "stream",
     "text": [
      "Enter password: Patates\n",
      "Enter password again: patates\n",
      "Incorrect\n"
     ]
    }
   ],
   "source": [
    "#Challenge 086\n",
    "passw = input(\"Enter password: \")\n",
    "passw_2 = input(\"Enter password again: \")\n",
    "if passw == passw_2 :\n",
    "    print('Thank you')\n",
    "elif passw.islower() == passw_2.islower():\n",
    "    print('Must be in the same case')\n",
    "else:\n",
    "    print(\"Incorrect\")"
   ]
  },
  {
   "cell_type": "code",
   "execution_count": 18,
   "metadata": {},
   "outputs": [
    {
     "name": "stdout",
     "output_type": "stream",
     "text": [
      "['n', 'o', 'h', 't', 'y', 'P']\n"
     ]
    }
   ],
   "source": [
    "#Challenge 087\n",
    "str = \"Python\" # initial string\n",
    "reversedString=[]\n",
    "index = len(str) # calculate length of string and save in index\n",
    "while index > 0: \n",
    "    reversedString += str[ index - 1 ] # save the value of str[index-1] in reverseString\n",
    "    index = index - 1 # decrement index\n",
    "print(reversedString) "
   ]
  },
  {
   "cell_type": "code",
   "execution_count": null,
   "metadata": {},
   "outputs": [],
   "source": []
  }
 ],
 "metadata": {
  "kernelspec": {
   "display_name": "Python 3",
   "language": "python",
   "name": "python3"
  },
  "language_info": {
   "codemirror_mode": {
    "name": "ipython",
    "version": 3
   },
   "file_extension": ".py",
   "mimetype": "text/x-python",
   "name": "python",
   "nbconvert_exporter": "python",
   "pygments_lexer": "ipython3",
   "version": "3.8.5"
  }
 },
 "nbformat": 4,
 "nbformat_minor": 4
}
