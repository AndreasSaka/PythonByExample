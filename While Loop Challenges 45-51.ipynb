{
 "cells": [
  {
   "cell_type": "code",
   "execution_count": 2,
   "metadata": {},
   "outputs": [
    {
     "name": "stdout",
     "output_type": "stream",
     "text": [
      "Input a number: 50\n",
      "The total is.. 50\n",
      "Input a number: 5\n",
      "The total is.. 55\n"
     ]
    }
   ],
   "source": [
    "#Challenge 045\n",
    "total = 0\n",
    "while total <= 50:\n",
    "    num = int(input(\"Input a number: \"))\n",
    "    total += num\n",
    "    print(\"The total is..\", total)"
   ]
  },
  {
   "cell_type": "code",
   "execution_count": 3,
   "metadata": {},
   "outputs": [
    {
     "name": "stdout",
     "output_type": "stream",
     "text": [
      "Input a number: 5\n",
      "The last number was.. 5\n",
      "Input a number: 5\n",
      "The last number was.. 5\n",
      "Input a number: 2\n",
      "The last number was.. 2\n",
      "Input a number: 3\n",
      "The last number was.. 3\n",
      "Input a number: 1\n",
      "The last number was.. 1\n",
      "Input a number: -2000\n",
      "The last number was.. -2000\n",
      "Input a number: 5\n",
      "The last number was.. 5\n",
      "Input a number: 6\n",
      "The last number was.. 6\n"
     ]
    }
   ],
   "source": [
    "#Challenge 046\n",
    "num = 0\n",
    "while num <= 5:\n",
    "    num = int(input(\"Input a number: \"))\n",
    "    print(\"The last number was..\", num)"
   ]
  },
  {
   "cell_type": "code",
   "execution_count": 4,
   "metadata": {},
   "outputs": [
    {
     "name": "stdout",
     "output_type": "stream",
     "text": [
      "Input a number: 5\n",
      "Enter another number..:5\n",
      "Do you wish to change asnwer..(y/n)?y\n",
      "Enter another number..:6\n",
      "Do you wish to change asnwer..(y/n)?y\n",
      "Enter another number..:20\n",
      "Do you wish to change asnwer..(y/n)?666\n",
      "The total is 36\n"
     ]
    }
   ],
   "source": [
    "#Challenge 047\n",
    "num = int(input(\"Input a number: \"))\n",
    "total = num\n",
    "answer = 'y'\n",
    "while answer == 'y':\n",
    "    num = int(input(\"Enter another number..:\"))\n",
    "    total += num\n",
    "    answer = str(input(\"Do you wish to change asnwer..(y/n)?\"))\n",
    "print(\"The total is\", total)"
   ]
  },
  {
   "cell_type": "code",
   "execution_count": 9,
   "metadata": {},
   "outputs": [
    {
     "name": "stdout",
     "output_type": "stream",
     "text": [
      "Input a name invited to the party..: Andreas\n",
      "Do you wish to invite more people? (yes/no)yes\n",
      "Input a name invited to the party..: Kostas\n",
      "This person has been invited Kostas\n",
      "Do you wish to invite more people? (yes/no)yes\n",
      "Input a name invited to the party..: John\n",
      "This person has been invited John\n",
      "Do you wish to invite more people? (yes/no)no\n",
      "YOu have invited 3\n"
     ]
    }
   ],
   "source": [
    "#Challenge 048\n",
    "name = str(input(\"Input a name invited to the party..: \"))\n",
    "answer = \"yes\"\n",
    "total_people = 1\n",
    "\n",
    "while answer == 'yes':\n",
    "    answer = str(input(\"Do you wish to invite more people? (yes/no)\"))\n",
    "    if answer == \"yes\":\n",
    "        name = str(input(\"Input a name invited to the party..: \"))\n",
    "        total_people += 1\n",
    "        print(\"This person has been invited\",name)\n",
    "    \n",
    "print(\"You have invited\", total_people)"
   ]
  },
  {
   "cell_type": "code",
   "execution_count": 20,
   "metadata": {},
   "outputs": [
    {
     "name": "stdout",
     "output_type": "stream",
     "text": [
      "Input a number: 49\n",
      "Your guess is too low\n",
      "Make another guess 51\n",
      "Your guess is too high\n",
      "Make another guess 39\n",
      "Your guess is too low\n",
      "Make another guess 50\n",
      "Well done you took 4\n"
     ]
    }
   ],
   "source": [
    "#Challenge 049\n",
    "compnum = 50\n",
    "attempts = 1\n",
    "guess = int(input(\"Input a number: \"))\n",
    "while guess != compnum:\n",
    "    if compnum > guess:\n",
    "        print(\"Your guess is too low\")\n",
    "    elif compnum < guess:\n",
    "        print(\"Your guess is too high\")\n",
    "    attempts += 1\n",
    "    guess = int(input(\"Make another guess \"))\n",
    "print(\"Well done you took {}\".format(attempts))\n",
    "\n"
   ]
  },
  {
   "cell_type": "code",
   "execution_count": 21,
   "metadata": {},
   "outputs": [
    {
     "name": "stdout",
     "output_type": "stream",
     "text": [
      "Input a number between 10 and 20: 9\n",
      "Too low try again21\n",
      "Too high try again15\n",
      "Thank you\n"
     ]
    }
   ],
   "source": [
    "#Challenge 050\n",
    "num = int(input(\"Input a number between 10 and 20: \"))\n",
    "while num < 10 or num > 20:\n",
    "    if num < 10:\n",
    "        num = int(input(\"Too low try again\"))\n",
    "    elif num > 20:\n",
    "        num = int(input('Too high try again'))\n",
    "print(\"Thank you\")"
   ]
  },
  {
   "cell_type": "code",
   "execution_count": 24,
   "metadata": {},
   "outputs": [
    {
     "name": "stdout",
     "output_type": "stream",
     "text": [
      "There are 10 green bootles hanging on the wall, \n",
      "          10 green bottles hanging on the wall, and if 1 green bottle should accidentally fall\n",
      "How many green bottles will be hanging on the wall?10\n",
      "Try again please?9\n",
      "There are 9 green bootles hanging on the wall, \n",
      "          9 green bottles hanging on the wall, and if 1 green bottle should accidentally fall\n",
      "How many green bottles will be hanging on the wall?8\n",
      "There will be 8 green bottles hanging on the wall\n",
      "There are 8 green bootles hanging on the wall, \n",
      "          8 green bottles hanging on the wall, and if 1 green bottle should accidentally fall\n",
      "How many green bottles will be hanging on the wall?7\n",
      "There will be 7 green bottles hanging on the wall\n",
      "There are 7 green bootles hanging on the wall, \n",
      "          7 green bottles hanging on the wall, and if 1 green bottle should accidentally fall\n",
      "How many green bottles will be hanging on the wall?6\n",
      "There will be 6 green bottles hanging on the wall\n",
      "There are 6 green bootles hanging on the wall, \n",
      "          6 green bottles hanging on the wall, and if 1 green bottle should accidentally fall\n",
      "How many green bottles will be hanging on the wall?5\n",
      "There will be 5 green bottles hanging on the wall\n",
      "There are 5 green bootles hanging on the wall, \n",
      "          5 green bottles hanging on the wall, and if 1 green bottle should accidentally fall\n",
      "How many green bottles will be hanging on the wall?4\n",
      "There will be 4 green bottles hanging on the wall\n",
      "There are 4 green bootles hanging on the wall, \n",
      "          4 green bottles hanging on the wall, and if 1 green bottle should accidentally fall\n",
      "How many green bottles will be hanging on the wall?3\n",
      "There will be 3 green bottles hanging on the wall\n",
      "There are 3 green bootles hanging on the wall, \n",
      "          3 green bottles hanging on the wall, and if 1 green bottle should accidentally fall\n",
      "How many green bottles will be hanging on the wall?2\n",
      "There will be 2 green bottles hanging on the wall\n",
      "There are 2 green bootles hanging on the wall, \n",
      "          2 green bottles hanging on the wall, and if 1 green bottle should accidentally fall\n",
      "How many green bottles will be hanging on the wall?1\n",
      "There will be 1 green bottles hanging on the wall\n",
      "There are 1 green bootles hanging on the wall, \n",
      "          1 green bottles hanging on the wall, and if 1 green bottle should accidentally fall\n",
      "How many green bottles will be hanging on the wall?0\n",
      "There will be 0 green bottles hanging on the wall\n",
      "There are no more green bootles hanging on the wall\n"
     ]
    }
   ],
   "source": [
    "#Challenge 050\n",
    "\n",
    "num = 10\n",
    "while num > 0:\n",
    "    print(\"\"\"There are {} green bootles hanging on the wall, \n",
    "          {} green bottles hanging on the wall, and if 1 green bottle should accidentally fall\"\"\".format(num,num))\n",
    "    num -= 1\n",
    "    answer = int(input(\"How many green bottles will be hanging on the wall?\"))\n",
    "    if answer == num:\n",
    "        print(\"There will be {} green bottles hanging on the wall\".format(num))\n",
    "    elif answer != num:\n",
    "        answer = int(input(\"Try again please?\"))\n",
    "print(\"There are no more green bootles hanging on the wall\")\n",
    "    \n"
   ]
  },
  {
   "cell_type": "code",
   "execution_count": null,
   "metadata": {},
   "outputs": [],
   "source": []
  }
 ],
 "metadata": {
  "kernelspec": {
   "display_name": "Python 3",
   "language": "python",
   "name": "python3"
  },
  "language_info": {
   "codemirror_mode": {
    "name": "ipython",
    "version": 3
   },
   "file_extension": ".py",
   "mimetype": "text/x-python",
   "name": "python",
   "nbconvert_exporter": "python",
   "pygments_lexer": "ipython3",
   "version": "3.8.5"
  }
 },
 "nbformat": 4,
 "nbformat_minor": 4
}
